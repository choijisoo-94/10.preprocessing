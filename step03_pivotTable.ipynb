{
 "cells": [
  {
   "cell_type": "markdown",
   "metadata": {},
   "source": [
    "3. API 소개\n",
    "```\n",
    "pd.pivot_table(df,  # 피벗할 데이터프레임\n",
    "                index = '행 위치에 들어갈 열',\n",
    "                columns = '열 위치에 들어갈 열',\n",
    "                values = '데이터로 사용할 열',\n",
    "                aggfunc = 데이터 집계함수)\n",
    "```"
   ]
  },
  {
   "cell_type": "code",
   "execution_count": 1,
   "metadata": {},
   "outputs": [],
   "source": [
    "import numpy as np\n",
    "import pandas as pd\n",
    "\n",
    "import warnings\n",
    "warnings.filterwarnings('ignore')"
   ]
  },
  {
   "cell_type": "code",
   "execution_count": 2,
   "metadata": {},
   "outputs": [
    {
     "data": {
      "text/plain": [
       "{'소속': ['jyp', 'psy', 'jyp', 'jyp', 'jyp', 'jyp', 'psy', 'psy', 'psy'],\n",
       " '가수': ['비', '제시', '박진형', '원더걸스', '제니', '샤샤', '현아', '싸이', '하니'],\n",
       " '성별': ['남자', '여자', '남자', '여자', '여자', '여자', '여자', '남자', '여자'],\n",
       " '연령': [15, 20, 20, 30, 30, 40, 50, 60, 70]}"
      ]
     },
     "execution_count": 2,
     "metadata": {},
     "output_type": "execute_result"
    }
   ],
   "source": [
    "data = {\"소속\": [\"jyp\", \"psy\", \"jyp\", \"jyp\", \"jyp\", \"jyp\", \"psy\", \"psy\", \"psy\"],\n",
    "        \"가수\": [\"비\", \"제시\", \"박진형\", \"원더걸스\", \"제니\", \"샤샤\", \"현아\", \"싸이\", \"하니\"],\n",
    "        \"성별\": ['남자', '여자', '남자', '여자', '여자', '여자', '여자', '남자', '여자'],\n",
    "        \"연령\": [15, 20, 20, 30, 30, 40, 50, 60, 70]}\n",
    "data"
   ]
  },
  {
   "cell_type": "code",
   "execution_count": 3,
   "metadata": {},
   "outputs": [
    {
     "name": "stdout",
     "output_type": "stream",
     "text": [
      "<class 'dict'>\n"
     ]
    }
   ],
   "source": [
    "print(type(data))"
   ]
  },
  {
   "cell_type": "code",
   "execution_count": 4,
   "metadata": {},
   "outputs": [
    {
     "data": {
      "text/html": [
       "<div>\n",
       "<style scoped>\n",
       "    .dataframe tbody tr th:only-of-type {\n",
       "        vertical-align: middle;\n",
       "    }\n",
       "\n",
       "    .dataframe tbody tr th {\n",
       "        vertical-align: top;\n",
       "    }\n",
       "\n",
       "    .dataframe thead th {\n",
       "        text-align: right;\n",
       "    }\n",
       "</style>\n",
       "<table border=\"1\" class=\"dataframe\">\n",
       "  <thead>\n",
       "    <tr style=\"text-align: right;\">\n",
       "      <th></th>\n",
       "      <th>소속</th>\n",
       "      <th>가수</th>\n",
       "      <th>성별</th>\n",
       "      <th>연령</th>\n",
       "    </tr>\n",
       "  </thead>\n",
       "  <tbody>\n",
       "    <tr>\n",
       "      <th>0</th>\n",
       "      <td>jyp</td>\n",
       "      <td>비</td>\n",
       "      <td>남자</td>\n",
       "      <td>15</td>\n",
       "    </tr>\n",
       "    <tr>\n",
       "      <th>1</th>\n",
       "      <td>psy</td>\n",
       "      <td>제시</td>\n",
       "      <td>여자</td>\n",
       "      <td>20</td>\n",
       "    </tr>\n",
       "    <tr>\n",
       "      <th>2</th>\n",
       "      <td>jyp</td>\n",
       "      <td>박진형</td>\n",
       "      <td>남자</td>\n",
       "      <td>20</td>\n",
       "    </tr>\n",
       "    <tr>\n",
       "      <th>3</th>\n",
       "      <td>jyp</td>\n",
       "      <td>원더걸스</td>\n",
       "      <td>여자</td>\n",
       "      <td>30</td>\n",
       "    </tr>\n",
       "    <tr>\n",
       "      <th>4</th>\n",
       "      <td>jyp</td>\n",
       "      <td>제니</td>\n",
       "      <td>여자</td>\n",
       "      <td>30</td>\n",
       "    </tr>\n",
       "    <tr>\n",
       "      <th>5</th>\n",
       "      <td>jyp</td>\n",
       "      <td>샤샤</td>\n",
       "      <td>여자</td>\n",
       "      <td>40</td>\n",
       "    </tr>\n",
       "    <tr>\n",
       "      <th>6</th>\n",
       "      <td>psy</td>\n",
       "      <td>현아</td>\n",
       "      <td>여자</td>\n",
       "      <td>50</td>\n",
       "    </tr>\n",
       "    <tr>\n",
       "      <th>7</th>\n",
       "      <td>psy</td>\n",
       "      <td>싸이</td>\n",
       "      <td>남자</td>\n",
       "      <td>60</td>\n",
       "    </tr>\n",
       "    <tr>\n",
       "      <th>8</th>\n",
       "      <td>psy</td>\n",
       "      <td>하니</td>\n",
       "      <td>여자</td>\n",
       "      <td>70</td>\n",
       "    </tr>\n",
       "  </tbody>\n",
       "</table>\n",
       "</div>"
      ],
      "text/plain": [
       "    소속    가수  성별  연령\n",
       "0  jyp     비  남자  15\n",
       "1  psy    제시  여자  20\n",
       "2  jyp   박진형  남자  20\n",
       "3  jyp  원더걸스  여자  30\n",
       "4  jyp    제니  여자  30\n",
       "5  jyp    샤샤  여자  40\n",
       "6  psy    현아  여자  50\n",
       "7  psy    싸이  남자  60\n",
       "8  psy    하니  여자  70"
      ]
     },
     "execution_count": 4,
     "metadata": {},
     "output_type": "execute_result"
    }
   ],
   "source": [
    "df = pd.DataFrame(data)\n",
    "df"
   ]
  },
  {
   "cell_type": "code",
   "execution_count": 5,
   "metadata": {},
   "outputs": [
    {
     "data": {
      "text/plain": [
       "37.22222222222222"
      ]
     },
     "execution_count": 5,
     "metadata": {},
     "output_type": "execute_result"
    }
   ],
   "source": [
    "df['연령'].mean()"
   ]
  },
  {
   "cell_type": "code",
   "execution_count": 6,
   "metadata": {},
   "outputs": [
    {
     "data": {
      "text/plain": [
       "37"
      ]
     },
     "execution_count": 6,
     "metadata": {},
     "output_type": "execute_result"
    }
   ],
   "source": [
    "int(df['연령'].mean())"
   ]
  },
  {
   "cell_type": "code",
   "execution_count": null,
   "metadata": {},
   "outputs": [],
   "source": []
  },
  {
   "cell_type": "code",
   "execution_count": 7,
   "metadata": {},
   "outputs": [
    {
     "data": {
      "text/html": [
       "<div>\n",
       "<style scoped>\n",
       "    .dataframe tbody tr th:only-of-type {\n",
       "        vertical-align: middle;\n",
       "    }\n",
       "\n",
       "    .dataframe tbody tr th {\n",
       "        vertical-align: top;\n",
       "    }\n",
       "\n",
       "    .dataframe thead th {\n",
       "        text-align: right;\n",
       "    }\n",
       "</style>\n",
       "<table border=\"1\" class=\"dataframe\">\n",
       "  <thead>\n",
       "    <tr style=\"text-align: right;\">\n",
       "      <th></th>\n",
       "      <th>소속</th>\n",
       "      <th>가수</th>\n",
       "      <th>성별</th>\n",
       "      <th>연령</th>\n",
       "      <th>가수들연령합</th>\n",
       "    </tr>\n",
       "  </thead>\n",
       "  <tbody>\n",
       "    <tr>\n",
       "      <th>0</th>\n",
       "      <td>jyp</td>\n",
       "      <td>비</td>\n",
       "      <td>남자</td>\n",
       "      <td>15</td>\n",
       "      <td>335</td>\n",
       "    </tr>\n",
       "    <tr>\n",
       "      <th>1</th>\n",
       "      <td>psy</td>\n",
       "      <td>제시</td>\n",
       "      <td>여자</td>\n",
       "      <td>20</td>\n",
       "      <td>335</td>\n",
       "    </tr>\n",
       "    <tr>\n",
       "      <th>2</th>\n",
       "      <td>jyp</td>\n",
       "      <td>박진형</td>\n",
       "      <td>남자</td>\n",
       "      <td>20</td>\n",
       "      <td>335</td>\n",
       "    </tr>\n",
       "    <tr>\n",
       "      <th>3</th>\n",
       "      <td>jyp</td>\n",
       "      <td>원더걸스</td>\n",
       "      <td>여자</td>\n",
       "      <td>30</td>\n",
       "      <td>335</td>\n",
       "    </tr>\n",
       "    <tr>\n",
       "      <th>4</th>\n",
       "      <td>jyp</td>\n",
       "      <td>제니</td>\n",
       "      <td>여자</td>\n",
       "      <td>30</td>\n",
       "      <td>335</td>\n",
       "    </tr>\n",
       "    <tr>\n",
       "      <th>5</th>\n",
       "      <td>jyp</td>\n",
       "      <td>샤샤</td>\n",
       "      <td>여자</td>\n",
       "      <td>40</td>\n",
       "      <td>335</td>\n",
       "    </tr>\n",
       "    <tr>\n",
       "      <th>6</th>\n",
       "      <td>psy</td>\n",
       "      <td>현아</td>\n",
       "      <td>여자</td>\n",
       "      <td>50</td>\n",
       "      <td>335</td>\n",
       "    </tr>\n",
       "    <tr>\n",
       "      <th>7</th>\n",
       "      <td>psy</td>\n",
       "      <td>싸이</td>\n",
       "      <td>남자</td>\n",
       "      <td>60</td>\n",
       "      <td>335</td>\n",
       "    </tr>\n",
       "    <tr>\n",
       "      <th>8</th>\n",
       "      <td>psy</td>\n",
       "      <td>하니</td>\n",
       "      <td>여자</td>\n",
       "      <td>70</td>\n",
       "      <td>335</td>\n",
       "    </tr>\n",
       "  </tbody>\n",
       "</table>\n",
       "</div>"
      ],
      "text/plain": [
       "    소속    가수  성별  연령  가수들연령합\n",
       "0  jyp     비  남자  15     335\n",
       "1  psy    제시  여자  20     335\n",
       "2  jyp   박진형  남자  20     335\n",
       "3  jyp  원더걸스  여자  30     335\n",
       "4  jyp    제니  여자  30     335\n",
       "5  jyp    샤샤  여자  40     335\n",
       "6  psy    현아  여자  50     335\n",
       "7  psy    싸이  남자  60     335\n",
       "8  psy    하니  여자  70     335"
      ]
     },
     "execution_count": 7,
     "metadata": {},
     "output_type": "execute_result"
    }
   ],
   "source": [
    "df['가수들연령합'] = df['연령'].sum()\n",
    "df"
   ]
  },
  {
   "cell_type": "code",
   "execution_count": 8,
   "metadata": {},
   "outputs": [
    {
     "data": {
      "text/html": [
       "<div>\n",
       "<style scoped>\n",
       "    .dataframe tbody tr th:only-of-type {\n",
       "        vertical-align: middle;\n",
       "    }\n",
       "\n",
       "    .dataframe tbody tr th {\n",
       "        vertical-align: top;\n",
       "    }\n",
       "\n",
       "    .dataframe thead th {\n",
       "        text-align: right;\n",
       "    }\n",
       "</style>\n",
       "<table border=\"1\" class=\"dataframe\">\n",
       "  <thead>\n",
       "    <tr style=\"text-align: right;\">\n",
       "      <th>가수</th>\n",
       "      <th>박진형</th>\n",
       "      <th>비</th>\n",
       "      <th>샤샤</th>\n",
       "      <th>싸이</th>\n",
       "      <th>원더걸스</th>\n",
       "      <th>제니</th>\n",
       "      <th>제시</th>\n",
       "      <th>하니</th>\n",
       "      <th>현아</th>\n",
       "    </tr>\n",
       "    <tr>\n",
       "      <th>소속</th>\n",
       "      <th></th>\n",
       "      <th></th>\n",
       "      <th></th>\n",
       "      <th></th>\n",
       "      <th></th>\n",
       "      <th></th>\n",
       "      <th></th>\n",
       "      <th></th>\n",
       "      <th></th>\n",
       "    </tr>\n",
       "  </thead>\n",
       "  <tbody>\n",
       "    <tr>\n",
       "      <th>jyp</th>\n",
       "      <td>20.0</td>\n",
       "      <td>15.0</td>\n",
       "      <td>40.0</td>\n",
       "      <td>NaN</td>\n",
       "      <td>30.0</td>\n",
       "      <td>30.0</td>\n",
       "      <td>NaN</td>\n",
       "      <td>NaN</td>\n",
       "      <td>NaN</td>\n",
       "    </tr>\n",
       "    <tr>\n",
       "      <th>psy</th>\n",
       "      <td>NaN</td>\n",
       "      <td>NaN</td>\n",
       "      <td>NaN</td>\n",
       "      <td>60.0</td>\n",
       "      <td>NaN</td>\n",
       "      <td>NaN</td>\n",
       "      <td>20.0</td>\n",
       "      <td>70.0</td>\n",
       "      <td>50.0</td>\n",
       "    </tr>\n",
       "  </tbody>\n",
       "</table>\n",
       "</div>"
      ],
      "text/plain": [
       "가수    박진형     비    샤샤    싸이  원더걸스    제니    제시    하니    현아\n",
       "소속                                                       \n",
       "jyp  20.0  15.0  40.0   NaN  30.0  30.0   NaN   NaN   NaN\n",
       "psy   NaN   NaN   NaN  60.0   NaN   NaN  20.0  70.0  50.0"
      ]
     },
     "execution_count": 8,
     "metadata": {},
     "output_type": "execute_result"
    }
   ],
   "source": [
    "table = df.pivot_table(values='연령', index='소속', columns='가수')\n",
    "# table = table.astype('int')\n",
    "table"
   ]
  },
  {
   "cell_type": "code",
   "execution_count": 9,
   "metadata": {},
   "outputs": [],
   "source": [
    "table.fillna('',inplace=True)"
   ]
  },
  {
   "cell_type": "code",
   "execution_count": 10,
   "metadata": {},
   "outputs": [
    {
     "data": {
      "text/html": [
       "<div>\n",
       "<style scoped>\n",
       "    .dataframe tbody tr th:only-of-type {\n",
       "        vertical-align: middle;\n",
       "    }\n",
       "\n",
       "    .dataframe tbody tr th {\n",
       "        vertical-align: top;\n",
       "    }\n",
       "\n",
       "    .dataframe thead th {\n",
       "        text-align: right;\n",
       "    }\n",
       "</style>\n",
       "<table border=\"1\" class=\"dataframe\">\n",
       "  <thead>\n",
       "    <tr style=\"text-align: right;\">\n",
       "      <th>가수</th>\n",
       "      <th>박진형</th>\n",
       "      <th>비</th>\n",
       "      <th>샤샤</th>\n",
       "      <th>싸이</th>\n",
       "      <th>원더걸스</th>\n",
       "      <th>제니</th>\n",
       "      <th>제시</th>\n",
       "      <th>하니</th>\n",
       "      <th>현아</th>\n",
       "    </tr>\n",
       "    <tr>\n",
       "      <th>소속</th>\n",
       "      <th></th>\n",
       "      <th></th>\n",
       "      <th></th>\n",
       "      <th></th>\n",
       "      <th></th>\n",
       "      <th></th>\n",
       "      <th></th>\n",
       "      <th></th>\n",
       "      <th></th>\n",
       "    </tr>\n",
       "  </thead>\n",
       "  <tbody>\n",
       "    <tr>\n",
       "      <th>jyp</th>\n",
       "      <td>20</td>\n",
       "      <td>15</td>\n",
       "      <td>40</td>\n",
       "      <td></td>\n",
       "      <td>30</td>\n",
       "      <td>30</td>\n",
       "      <td></td>\n",
       "      <td></td>\n",
       "      <td></td>\n",
       "    </tr>\n",
       "    <tr>\n",
       "      <th>psy</th>\n",
       "      <td></td>\n",
       "      <td></td>\n",
       "      <td></td>\n",
       "      <td>60</td>\n",
       "      <td></td>\n",
       "      <td></td>\n",
       "      <td>20</td>\n",
       "      <td>70</td>\n",
       "      <td>50</td>\n",
       "    </tr>\n",
       "  </tbody>\n",
       "</table>\n",
       "</div>"
      ],
      "text/plain": [
       "가수  박진형   비  샤샤  싸이 원더걸스  제니  제시  하니  현아\n",
       "소속                                      \n",
       "jyp  20  15  40       30  30            \n",
       "psy              60           20  70  50"
      ]
     },
     "execution_count": 10,
     "metadata": {},
     "output_type": "execute_result"
    }
   ],
   "source": [
    "table"
   ]
  },
  {
   "cell_type": "code",
   "execution_count": null,
   "metadata": {},
   "outputs": [],
   "source": []
  }
 ],
 "metadata": {
  "kernelspec": {
   "display_name": "Python 3",
   "language": "python",
   "name": "python3"
  },
  "language_info": {
   "codemirror_mode": {
    "name": "ipython",
    "version": 3
   },
   "file_extension": ".py",
   "mimetype": "text/x-python",
   "name": "python",
   "nbconvert_exporter": "python",
   "pygments_lexer": "ipython3",
   "version": "3.8.5"
  }
 },
 "nbformat": 4,
 "nbformat_minor": 4
}
